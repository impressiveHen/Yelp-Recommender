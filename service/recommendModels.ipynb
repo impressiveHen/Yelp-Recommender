{
 "cells": [
  {
   "cell_type": "code",
   "execution_count": 33,
   "metadata": {},
   "outputs": [],
   "source": [
    "import pandas as pd\n",
    "import numpy as np\n",
    "import matplotlib.pyplot as plt\n",
    "%matplotlib inline  \n",
    "from collections import defaultdict\n",
    "import pickle\n",
    "import json\n",
    "import csv\n",
    "from ast import literal_eval\n",
    "from scipy.spatial import distance"
   ]
  },
  {
   "cell_type": "markdown",
   "metadata": {},
   "source": [
    "# Read Data "
   ]
  },
  {
   "cell_type": "code",
   "execution_count": 34,
   "metadata": {},
   "outputs": [],
   "source": [
    "with open('pickleData/pd_business.pkl', 'rb') as f:\n",
    "    pd_business = pickle.load(f)"
   ]
  },
  {
   "cell_type": "code",
   "execution_count": 35,
   "metadata": {},
   "outputs": [
    {
     "data": {
      "text/html": [
       "<div>\n",
       "<style scoped>\n",
       "    .dataframe tbody tr th:only-of-type {\n",
       "        vertical-align: middle;\n",
       "    }\n",
       "\n",
       "    .dataframe tbody tr th {\n",
       "        vertical-align: top;\n",
       "    }\n",
       "\n",
       "    .dataframe thead th {\n",
       "        text-align: right;\n",
       "    }\n",
       "</style>\n",
       "<table border=\"1\" class=\"dataframe\">\n",
       "  <thead>\n",
       "    <tr style=\"text-align: right;\">\n",
       "      <th></th>\n",
       "      <th>Restaurant_categories</th>\n",
       "      <th>attributes_list</th>\n",
       "      <th>location</th>\n",
       "      <th>rate_vec</th>\n",
       "    </tr>\n",
       "    <tr>\n",
       "      <th>business_id</th>\n",
       "      <th></th>\n",
       "      <th></th>\n",
       "      <th></th>\n",
       "      <th></th>\n",
       "    </tr>\n",
       "  </thead>\n",
       "  <tbody>\n",
       "    <tr>\n",
       "      <th>QXAEGFB4oINsVuTFxEYKFQ</th>\n",
       "      <td>[specialty food, dim sum, imported food, food,...</td>\n",
       "      <td>[RestaurantsReservations, GoodForMeallunch, Go...</td>\n",
       "      <td>[Mississauga, ON]</td>\n",
       "      <td>[2.5, 128]</td>\n",
       "    </tr>\n",
       "    <tr>\n",
       "      <th>gnKjwL_1w79qoiV3IC_xQQ</th>\n",
       "      <td>[sushi bars, japanese]</td>\n",
       "      <td>[GoodForKids, NoiseLevelaverage, GoodForMeallu...</td>\n",
       "      <td>[Charlotte, NC]</td>\n",
       "      <td>[4.0, 170]</td>\n",
       "    </tr>\n",
       "    <tr>\n",
       "      <th>1Dfx3zM-rW4n-31KeC8sJg</th>\n",
       "      <td>[breakfast &amp; brunch, mexican, tacos, tex-mex, ...</td>\n",
       "      <td>[RestaurantsTakeOut, WiFino, RestaurantsAttire...</td>\n",
       "      <td>[Phoenix, AZ]</td>\n",
       "      <td>[3.0, 18]</td>\n",
       "    </tr>\n",
       "    <tr>\n",
       "      <th>fweCYi8FmbJXHCqLnwuk8w</th>\n",
       "      <td>[italian, pizza, chicken wings]</td>\n",
       "      <td>[RestaurantsPriceRange22, BusinessAcceptsCredi...</td>\n",
       "      <td>[Mentor-on-the-Lake, OH]</td>\n",
       "      <td>[4.0, 16]</td>\n",
       "    </tr>\n",
       "    <tr>\n",
       "      <th>tstimHoMcYbkSC4eBA1wEg</th>\n",
       "      <td>[mexican, patisserie/cake shop, food, bars, ni...</td>\n",
       "      <td>[BikeParking, BusinessParkinglot, BusinessAcce...</td>\n",
       "      <td>[Las Vegas, NV]</td>\n",
       "      <td>[4.5, 184]</td>\n",
       "    </tr>\n",
       "  </tbody>\n",
       "</table>\n",
       "</div>"
      ],
      "text/plain": [
       "                                                    Restaurant_categories  \\\n",
       "business_id                                                                 \n",
       "QXAEGFB4oINsVuTFxEYKFQ  [specialty food, dim sum, imported food, food,...   \n",
       "gnKjwL_1w79qoiV3IC_xQQ                             [sushi bars, japanese]   \n",
       "1Dfx3zM-rW4n-31KeC8sJg  [breakfast & brunch, mexican, tacos, tex-mex, ...   \n",
       "fweCYi8FmbJXHCqLnwuk8w                    [italian, pizza, chicken wings]   \n",
       "tstimHoMcYbkSC4eBA1wEg  [mexican, patisserie/cake shop, food, bars, ni...   \n",
       "\n",
       "                                                          attributes_list  \\\n",
       "business_id                                                                 \n",
       "QXAEGFB4oINsVuTFxEYKFQ  [RestaurantsReservations, GoodForMeallunch, Go...   \n",
       "gnKjwL_1w79qoiV3IC_xQQ  [GoodForKids, NoiseLevelaverage, GoodForMeallu...   \n",
       "1Dfx3zM-rW4n-31KeC8sJg  [RestaurantsTakeOut, WiFino, RestaurantsAttire...   \n",
       "fweCYi8FmbJXHCqLnwuk8w  [RestaurantsPriceRange22, BusinessAcceptsCredi...   \n",
       "tstimHoMcYbkSC4eBA1wEg  [BikeParking, BusinessParkinglot, BusinessAcce...   \n",
       "\n",
       "                                        location    rate_vec  \n",
       "business_id                                                   \n",
       "QXAEGFB4oINsVuTFxEYKFQ         [Mississauga, ON]  [2.5, 128]  \n",
       "gnKjwL_1w79qoiV3IC_xQQ           [Charlotte, NC]  [4.0, 170]  \n",
       "1Dfx3zM-rW4n-31KeC8sJg             [Phoenix, AZ]   [3.0, 18]  \n",
       "fweCYi8FmbJXHCqLnwuk8w  [Mentor-on-the-Lake, OH]   [4.0, 16]  \n",
       "tstimHoMcYbkSC4eBA1wEg           [Las Vegas, NV]  [4.5, 184]  "
      ]
     },
     "execution_count": 35,
     "metadata": {},
     "output_type": "execute_result"
    }
   ],
   "source": [
    "pd_business.head()"
   ]
  },
  {
   "cell_type": "code",
   "execution_count": 36,
   "metadata": {},
   "outputs": [
    {
     "name": "stdout",
     "output_type": "stream",
     "text": [
      "Restaurant_categories    [mexican, patisserie/cake shop, food, bars, ni...\n",
      "attributes_list          [BikeParking, BusinessParkinglot, BusinessAcce...\n",
      "location                                                   [Las Vegas, NV]\n",
      "rate_vec                                                        [4.5, 184]\n",
      "Name: tstimHoMcYbkSC4eBA1wEg, dtype: object\n"
     ]
    }
   ],
   "source": [
    "print(pd_business.loc['tstimHoMcYbkSC4eBA1wEg'])"
   ]
  },
  {
   "cell_type": "code",
   "execution_count": 7,
   "metadata": {},
   "outputs": [
    {
     "name": "stdout",
     "output_type": "stream",
     "text": [
      "QXAEGFB4oINsVuTFxEYKFQ\n",
      "['specialty food', 'dim sum', 'imported food', 'food', 'chinese', 'ethnic food', 'seafood']\n",
      "['RestaurantsReservations', 'GoodForMeallunch', 'GoodForMealdinner', 'BusinessParkinglot', 'Caters', 'NoiseLevelloud', 'RestaurantsTableService', 'RestaurantsTakeOut', 'RestaurantsPriceRange22', 'Ambiencecasual', 'WiFino', 'GoodForKids', 'Alcoholfull_bar', 'RestaurantsAttirecasual', 'RestaurantsGoodForGroups']\n",
      "['Mississauga', 'ON']\n",
      "[2.5, 128]\n"
     ]
    }
   ],
   "source": [
    "print(pd_business.iloc[0].name)\n",
    "print(pd_business.iloc[0,0])\n",
    "print(pd_business.iloc[0,1])\n",
    "print(pd_business.iloc[0,2])\n",
    "print(pd_business.iloc[0,3])"
   ]
  },
  {
   "cell_type": "code",
   "execution_count": 8,
   "metadata": {},
   "outputs": [
    {
     "name": "stdout",
     "output_type": "stream",
     "text": [
      "# of restaurants: 44100\n"
     ]
    }
   ],
   "source": [
    "print(\"# of restaurants: {}\".format(pd_business.shape[0]))"
   ]
  },
  {
   "cell_type": "code",
   "execution_count": 17,
   "metadata": {},
   "outputs": [
    {
     "data": {
      "text/html": [
       "<div>\n",
       "<style scoped>\n",
       "    .dataframe tbody tr th:only-of-type {\n",
       "        vertical-align: middle;\n",
       "    }\n",
       "\n",
       "    .dataframe tbody tr th {\n",
       "        vertical-align: top;\n",
       "    }\n",
       "\n",
       "    .dataframe thead th {\n",
       "        text-align: right;\n",
       "    }\n",
       "</style>\n",
       "<table border=\"1\" class=\"dataframe\">\n",
       "  <thead>\n",
       "    <tr style=\"text-align: right;\">\n",
       "      <th></th>\n",
       "      <th>user_id</th>\n",
       "      <th>business_id</th>\n",
       "      <th>stars</th>\n",
       "    </tr>\n",
       "  </thead>\n",
       "  <tbody>\n",
       "    <tr>\n",
       "      <th>0</th>\n",
       "      <td>c6HT44PKCaXqzN_BdgKPCw</td>\n",
       "      <td>u8C8pRvaHXg3PgDrsUHJHQ</td>\n",
       "      <td>5.0</td>\n",
       "    </tr>\n",
       "    <tr>\n",
       "      <th>1</th>\n",
       "      <td>nkN_do3fJ9xekchVC-v68A</td>\n",
       "      <td>u8C8pRvaHXg3PgDrsUHJHQ</td>\n",
       "      <td>4.0</td>\n",
       "    </tr>\n",
       "    <tr>\n",
       "      <th>2</th>\n",
       "      <td>nkN_do3fJ9xekchVC-v68A</td>\n",
       "      <td>EZOoB2D8uQHV_gJoGCMTxQ</td>\n",
       "      <td>4.0</td>\n",
       "    </tr>\n",
       "    <tr>\n",
       "      <th>3</th>\n",
       "      <td>62GNFh5FySkA3MbrQmnqvg</td>\n",
       "      <td>ydUqgWsF3F27TbauOyib0w</td>\n",
       "      <td>4.0</td>\n",
       "    </tr>\n",
       "    <tr>\n",
       "      <th>4</th>\n",
       "      <td>Ud72j_rglYmXrL_O8zCdoA</td>\n",
       "      <td>LkMtMHVetws5_7QfRjPtlg</td>\n",
       "      <td>4.0</td>\n",
       "    </tr>\n",
       "  </tbody>\n",
       "</table>\n",
       "</div>"
      ],
      "text/plain": [
       "                  user_id             business_id  stars\n",
       "0  c6HT44PKCaXqzN_BdgKPCw  u8C8pRvaHXg3PgDrsUHJHQ    5.0\n",
       "1  nkN_do3fJ9xekchVC-v68A  u8C8pRvaHXg3PgDrsUHJHQ    4.0\n",
       "2  nkN_do3fJ9xekchVC-v68A  EZOoB2D8uQHV_gJoGCMTxQ    4.0\n",
       "3  62GNFh5FySkA3MbrQmnqvg  ydUqgWsF3F27TbauOyib0w    4.0\n",
       "4  Ud72j_rglYmXrL_O8zCdoA  LkMtMHVetws5_7QfRjPtlg    4.0"
      ]
     },
     "execution_count": 17,
     "metadata": {},
     "output_type": "execute_result"
    }
   ],
   "source": [
    "pd_review = pd.read_csv('review.csv')\n",
    "pd_review.head()"
   ]
  },
  {
   "cell_type": "code",
   "execution_count": 18,
   "metadata": {},
   "outputs": [],
   "source": [
    "# pd_review.set_index(['user_id', 'business_id'], inplace=True)\n",
    "# pd_review.head()"
   ]
  },
  {
   "cell_type": "code",
   "execution_count": 19,
   "metadata": {},
   "outputs": [],
   "source": [
    "# print(pd_review.loc[('62GNFh5FySkA3MbrQmnqvg','ydUqgWsF3F27TbauOyib0w'),'stars'].iloc[0])\n",
    "# print(('g','a') in pd_review.index)"
   ]
  },
  {
   "cell_type": "code",
   "execution_count": 20,
   "metadata": {},
   "outputs": [],
   "source": [
    "with open('pickleData/userToRes_dict.pkl', 'rb') as f:\n",
    "    userToRes_dict = pickle.load(f)"
   ]
  },
  {
   "cell_type": "code",
   "execution_count": 21,
   "metadata": {},
   "outputs": [],
   "source": [
    "with open('pickleData/resToUser_dict.pkl', 'rb') as f:\n",
    "    resToUser_dict = pickle.load(f)"
   ]
  },
  {
   "cell_type": "code",
   "execution_count": 22,
   "metadata": {},
   "outputs": [
    {
     "name": "stdout",
     "output_type": "stream",
     "text": [
      "# of users: 1112564\n",
      "# of restuarants: 44100\n"
     ]
    }
   ],
   "source": [
    "print(\"# of users: {}\".format(len(userToRes_dict)))\n",
    "print(\"# of restuarants: {}\".format(len(resToUser_dict)))"
   ]
  },
  {
   "cell_type": "code",
   "execution_count": 23,
   "metadata": {},
   "outputs": [
    {
     "name": "stdout",
     "output_type": "stream",
     "text": [
      "[(1, 610807), (2, 187346), (3, 91244), (4, 53610), (5, 34660), (6, 24079), (7, 17826), (8, 13401), (9, 10325), (10, 8358), (11, 6826), (12, 5545), (13, 4746), (14, 4026), (15, 3407), (16, 2908), (17, 2526), (18, 2177), (19, 1941), (20, 1791), (21, 1606), (22, 1346), (23, 1284), (24, 1085), (25, 1057), (26, 983), (27, 843), (28, 801), (29, 776), (30, 714), (31, 644), (32, 641), (33, 551), (34, 479), (35, 499), (36, 470), (37, 447), (38, 402), (39, 345), (40, 360), (41, 331), (42, 325), (43, 282), (44, 281), (45, 286), (46, 279), (47, 253), (48, 212), (49, 240), (50, 232), (51, 203), (52, 189), (53, 222), (54, 190), (55, 192), (56, 158), (57, 156), (58, 129), (59, 161), (60, 137), (61, 133), (62, 139), (63, 135), (64, 135), (65, 129), (66, 142), (67, 103), (68, 103), (69, 104), (70, 109), (71, 93), (72, 95), (73, 91), (74, 92), (75, 80), (76, 86), (77, 88), (78, 77), (79, 86), (80, 77), (81, 70), (82, 70), (83, 63), (84, 72), (85, 68), (86, 53), (87, 51), (88, 71), (89, 58), (90, 58), (91, 57), (92, 66), (93, 44), (94, 55), (95, 52), (96, 47), (97, 49), (98, 42), (99, 50), (100, 46), (101, 38), (102, 41), (103, 35), (104, 28), (105, 35), (106, 25), (107, 38), (108, 38), (109, 40), (110, 33), (111, 31), (112, 21), (113, 29), (114, 28), (115, 32), (116, 24), (117, 23), (118, 28), (119, 26), (120, 18), (121, 26), (122, 13), (123, 27), (124, 26), (125, 20), (126, 19), (127, 22), (128, 17), (129, 20), (130, 18), (131, 11), (132, 22), (133, 21), (134, 12), (135, 14), (136, 18), (137, 19), (138, 19), (139, 21), (140, 16), (141, 15), (142, 13), (143, 16), (144, 14), (145, 14), (146, 21), (147, 18), (148, 14), (149, 13), (150, 14), (151, 17), (152, 10), (153, 9), (154, 17), (155, 7), (156, 12), (157, 13), (158, 12), (159, 16), (160, 13), (161, 9), (162, 14), (163, 8), (164, 9), (165, 12), (166, 8), (167, 8), (168, 8), (169, 5), (170, 6), (171, 6), (172, 8), (173, 7), (174, 9), (175, 4), (176, 7), (177, 8), (178, 10), (179, 9), (180, 8), (181, 6), (182, 8), (183, 9), (184, 5), (185, 8), (186, 7), (187, 7), (188, 6), (189, 5), (190, 7), (191, 7), (192, 6), (193, 10), (194, 3), (195, 7), (196, 5), (197, 4), (198, 9), (199, 4), (200, 6), (201, 5), (202, 7), (203, 4), (204, 1), (206, 5), (207, 4), (208, 5), (209, 5), (210, 6), (211, 2), (212, 4), (213, 4), (214, 3), (215, 3), (216, 4), (217, 5), (218, 5), (219, 2), (220, 3), (221, 6), (222, 6), (224, 2), (225, 2), (226, 2), (227, 3), (228, 3), (229, 1), (230, 4), (231, 2), (232, 3), (233, 5), (234, 3), (235, 3), (236, 1), (237, 6), (238, 3), (239, 3), (240, 3), (241, 2), (242, 1), (243, 3), (244, 4), (245, 1), (246, 4), (247, 2), (249, 2), (250, 4), (251, 3), (252, 1), (253, 2), (254, 3), (255, 1), (256, 2), (257, 2), (258, 1), (259, 3), (260, 1), (261, 1), (262, 1), (263, 3), (264, 1), (265, 3), (266, 2), (267, 4), (268, 4), (269, 1), (270, 2), (271, 1), (272, 2), (273, 4), (274, 4), (275, 4), (280, 4), (282, 4), (283, 3), (284, 4), (286, 5), (287, 2), (288, 4), (289, 2), (290, 1), (291, 1), (292, 2), (293, 1), (294, 3), (295, 1), (296, 2), (297, 1), (298, 1), (299, 2), (301, 3), (302, 4), (303, 1), (304, 2), (305, 3), (307, 1), (308, 1), (309, 5), (310, 2), (311, 3), (312, 2), (314, 1), (315, 2), (317, 1), (318, 1), (319, 1), (320, 1), (321, 2), (323, 3), (325, 3), (326, 1), (327, 2), (328, 1), (332, 1), (333, 1), (338, 1), (339, 1), (340, 1), (341, 1), (346, 1), (352, 1), (356, 1), (357, 1), (358, 1), (359, 1), (362, 4), (363, 1), (365, 1), (366, 1), (367, 1), (368, 1), (369, 1), (374, 1), (375, 1), (378, 3), (384, 1), (385, 1), (388, 3), (389, 2), (391, 1), (392, 1), (393, 1), (397, 1), (399, 1), (402, 1), (403, 1), (404, 1), (407, 2), (409, 1), (412, 1), (413, 2), (414, 1), (419, 1), (422, 1), (425, 1), (426, 1), (430, 2), (431, 2), (436, 1), (437, 1), (438, 1), (439, 2), (448, 1), (449, 1), (452, 2), (455, 3), (458, 1), (462, 1), (464, 1), (467, 1), (470, 1), (479, 1), (480, 1), (481, 1), (482, 2), (485, 1), (486, 1), (491, 1), (497, 2), (510, 1), (516, 1), (518, 2), (524, 1), (526, 2), (531, 1), (542, 1), (545, 1), (549, 1), (576, 1), (594, 1), (595, 1), (602, 1), (609, 1), (610, 1), (611, 1), (612, 1), (617, 1), (624, 1), (662, 1), (671, 1), (717, 1), (734, 1), (960, 1), (975, 1), (982, 1), (1022, 1), (1028, 1), (1268, 1), (1442, 1), (2042, 1)]\n",
      "891382\n",
      "['w5wzv2qh_W46GR5MyG89XQ', 'vtuxjFVyp07RD8PIEPu1iw', 'CnEPciHoJIJ02zzQoN45OA', 'hpD40lXAI9wOgEnsqTwBYA', '8cI6TmFSoH5ziUp_UcXhfA']\n"
     ]
    }
   ],
   "source": [
    "userNumRates = defaultdict(int)\n",
    "extreme_rate_users = set()\n",
    "for u in userToRes_dict:\n",
    "    userNumRates[len(userToRes_dict[u])] += 1\n",
    "    if len(userToRes_dict[u]) <= 3 or len(userToRes_dict[u]) >= 101:\n",
    "        extreme_rate_users.add(u)\n",
    "print(sorted(userNumRates.items(), key=lambda tp:tp[0]))\n",
    "print(len(extreme_rate_users))\n",
    "print(list(extreme_rate_users)[:5])"
   ]
  },
  {
   "cell_type": "code",
   "execution_count": 24,
   "metadata": {},
   "outputs": [
    {
     "name": "stdout",
     "output_type": "stream",
     "text": [
      "before drop extreme pd_review # of rows: 3954330\n"
     ]
    },
    {
     "data": {
      "text/html": [
       "<div>\n",
       "<style scoped>\n",
       "    .dataframe tbody tr th:only-of-type {\n",
       "        vertical-align: middle;\n",
       "    }\n",
       "\n",
       "    .dataframe tbody tr th {\n",
       "        vertical-align: top;\n",
       "    }\n",
       "\n",
       "    .dataframe thead th {\n",
       "        text-align: right;\n",
       "    }\n",
       "</style>\n",
       "<table border=\"1\" class=\"dataframe\">\n",
       "  <thead>\n",
       "    <tr style=\"text-align: right;\">\n",
       "      <th></th>\n",
       "      <th>user_id</th>\n",
       "      <th>business_id</th>\n",
       "      <th>stars</th>\n",
       "    </tr>\n",
       "  </thead>\n",
       "  <tbody>\n",
       "    <tr>\n",
       "      <th>1</th>\n",
       "      <td>nkN_do3fJ9xekchVC-v68A</td>\n",
       "      <td>u8C8pRvaHXg3PgDrsUHJHQ</td>\n",
       "      <td>4.0</td>\n",
       "    </tr>\n",
       "    <tr>\n",
       "      <th>2</th>\n",
       "      <td>nkN_do3fJ9xekchVC-v68A</td>\n",
       "      <td>EZOoB2D8uQHV_gJoGCMTxQ</td>\n",
       "      <td>4.0</td>\n",
       "    </tr>\n",
       "    <tr>\n",
       "      <th>11</th>\n",
       "      <td>HLaSqQMDVvlcFPGJL_kGCA</td>\n",
       "      <td>VMPSdoBgJuyS9t_x_caTig</td>\n",
       "      <td>5.0</td>\n",
       "    </tr>\n",
       "    <tr>\n",
       "      <th>12</th>\n",
       "      <td>HLaSqQMDVvlcFPGJL_kGCA</td>\n",
       "      <td>GjkgXXicSJokejRge-g3xA</td>\n",
       "      <td>5.0</td>\n",
       "    </tr>\n",
       "    <tr>\n",
       "      <th>13</th>\n",
       "      <td>HLaSqQMDVvlcFPGJL_kGCA</td>\n",
       "      <td>IXXERocY1bqGwRllcy8J2w</td>\n",
       "      <td>5.0</td>\n",
       "    </tr>\n",
       "  </tbody>\n",
       "</table>\n",
       "</div>"
      ],
      "text/plain": [
       "                   user_id             business_id  stars\n",
       "1   nkN_do3fJ9xekchVC-v68A  u8C8pRvaHXg3PgDrsUHJHQ    4.0\n",
       "2   nkN_do3fJ9xekchVC-v68A  EZOoB2D8uQHV_gJoGCMTxQ    4.0\n",
       "11  HLaSqQMDVvlcFPGJL_kGCA  VMPSdoBgJuyS9t_x_caTig    5.0\n",
       "12  HLaSqQMDVvlcFPGJL_kGCA  GjkgXXicSJokejRge-g3xA    5.0\n",
       "13  HLaSqQMDVvlcFPGJL_kGCA  IXXERocY1bqGwRllcy8J2w    5.0"
      ]
     },
     "execution_count": 24,
     "metadata": {},
     "output_type": "execute_result"
    }
   ],
   "source": [
    "print('before drop extreme pd_review # of rows: {}'.format(pd_review.shape[0]))\n",
    "extreme_index = list()\n",
    "def find_extreme(row):\n",
    "    if row['user_id'] in extreme_rate_users:\n",
    "        extreme_index.append(row.name)\n",
    "pd_review.apply(find_extreme, axis=1)\n",
    "pd_review.drop(extreme_index, axis=0, inplace=True)\n",
    "pd_review.head()"
   ]
  },
  {
   "cell_type": "code",
   "execution_count": 25,
   "metadata": {
    "scrolled": true
   },
   "outputs": [
    {
     "name": "stdout",
     "output_type": "stream",
     "text": [
      "after drop extreme pd_review # of rows: 2348407\n"
     ]
    }
   ],
   "source": [
    "print('after drop extreme pd_review # of rows: {}'.format(pd_review.shape[0]))"
   ]
  },
  {
   "cell_type": "code",
   "execution_count": 26,
   "metadata": {},
   "outputs": [
    {
     "name": "stdout",
     "output_type": "stream",
     "text": [
      "# of restuarants after filter extreme rate users: 43756\n"
     ]
    }
   ],
   "source": [
    "normalRateRes = set(pd_review['business_id'])\n",
    "print(\"# of restuarants after filter extreme rate users: {}\".format(len(normalRateRes)))"
   ]
  },
  {
   "cell_type": "code",
   "execution_count": 27,
   "metadata": {},
   "outputs": [
    {
     "name": "stdout",
     "output_type": "stream",
     "text": [
      "# of restaurants after filter out no rate restuarant: 43756\n"
     ]
    }
   ],
   "source": [
    "noRateRes = list()\n",
    "def findNoRateRes(row):\n",
    "    if row.name not in normalRateRes:\n",
    "        noRateRes.append(row.name)\n",
    "pd_business.apply(findNoRateRes, axis=1)\n",
    "pd_business.drop(noRateRes, axis=0, inplace=True)\n",
    "print(\"# of restaurants after filter out no rate restuarant: {}\".format(pd_business.shape[0]))"
   ]
  },
  {
   "cell_type": "code",
   "execution_count": 28,
   "metadata": {},
   "outputs": [
    {
     "name": "stdout",
     "output_type": "stream",
     "text": [
      "# of users: 221182\n",
      "# of restuarants: 43756\n"
     ]
    }
   ],
   "source": [
    "userToRes_dict = dict(userToRes_dict)\n",
    "resToUser_dict = dict(resToUser_dict)\n",
    "\n",
    "for u in extreme_rate_users:\n",
    "    userToRes_dict.pop(u)\n",
    "\n",
    "for r in noRateRes:\n",
    "    resToUser_dict.pop(r)\n",
    "        \n",
    "print(\"# of users: {}\".format(len(userToRes_dict)))\n",
    "print(\"# of restuarants: {}\".format(len(resToUser_dict)))"
   ]
  },
  {
   "cell_type": "code",
   "execution_count": 29,
   "metadata": {},
   "outputs": [],
   "source": [
    "pd_review.to_pickle(\"pd_review.pkl\")"
   ]
  },
  {
   "cell_type": "code",
   "execution_count": 30,
   "metadata": {},
   "outputs": [],
   "source": [
    "pd_business.to_pickle(\"pd_business.pkl\")"
   ]
  },
  {
   "cell_type": "code",
   "execution_count": 31,
   "metadata": {},
   "outputs": [],
   "source": [
    "with open('userToRes_dict.pickle', 'wb') as f:\n",
    "    pickle.dump(userToRes_dict, f, pickle.HIGHEST_PROTOCOL)"
   ]
  },
  {
   "cell_type": "code",
   "execution_count": 32,
   "metadata": {},
   "outputs": [],
   "source": [
    "with open('resToUser_dict.pickle', 'wb') as f:\n",
    "    pickle.dump(resToUser_dict, f, pickle.HIGHEST_PROTOCOL)"
   ]
  },
  {
   "cell_type": "markdown",
   "metadata": {},
   "source": [
    "# Define Distance Functions"
   ]
  },
  {
   "cell_type": "code",
   "execution_count": 19,
   "metadata": {},
   "outputs": [
    {
     "name": "stdout",
     "output_type": "stream",
     "text": [
      "0.0\n",
      "0.97228425171235\n"
     ]
    }
   ],
   "source": [
    "def cal_cos_sim(vec1, vec2):\n",
    "    assert isinstance(vec1, list)\n",
    "    assert isinstance(vec2, list)\n",
    "    dis = distance.cosine(vec1, vec2)\n",
    "    return 1 - dis\n",
    "\n",
    "print(cal_cos_sim([1, 0, 0], [0, 1, 0]))\n",
    "print(cal_cos_sim([3, 45, 7, 2], [2, 54, 13, 15]))"
   ]
  },
  {
   "cell_type": "code",
   "execution_count": 20,
   "metadata": {},
   "outputs": [
    {
     "name": "stdout",
     "output_type": "stream",
     "text": [
      "0.25\n"
     ]
    }
   ],
   "source": [
    "def Jaccard(vec1, vec2):\n",
    "    assert isinstance(vec1, list)\n",
    "    assert isinstance(vec2, list)\n",
    "    set1 = set(vec1)\n",
    "    set2 = set(vec2)\n",
    "    inter = len(set1.intersection(set2))\n",
    "    uni = len(set1.union(set2))\n",
    "    return inter / uni\n",
    "\n",
    "print(Jaccard(['pizza', 'hot'], ['pizza', 'orange', 'apple']))"
   ]
  },
  {
   "cell_type": "code",
   "execution_count": 21,
   "metadata": {},
   "outputs": [
    {
     "name": "stdout",
     "output_type": "stream",
     "text": [
      "1.5238015385975454\n",
      "Wall time: 2.99 ms\n"
     ]
    }
   ],
   "source": [
    "%%time\n",
    "print(Jaccard(pd_business.iloc[0,0],pd_business.iloc[1,0]) + Jaccard(pd_business.iloc[0,1],pd_business.iloc[1,1]) + Jaccard(pd_business.iloc[0,2],pd_business.iloc[1,2]) + cal_cos_sim(pd_business.iloc[0,3],pd_business.iloc[1,3]))"
   ]
  },
  {
   "cell_type": "markdown",
   "metadata": {},
   "source": [
    "# Content Base Recommendation Model"
   ]
  },
  {
   "cell_type": "code",
   "execution_count": 22,
   "metadata": {},
   "outputs": [],
   "source": [
    "class ContentRecomm:\n",
    "    def __init__(self, userToRes_dict, pd_business, pd_review, ratio=[0.3, 0.1, 0.4, 0.2]):\n",
    "        self.userToRes_dict = userToRes_dict\n",
    "        self.pd_business = pd_business\n",
    "        self.pd_review = pd_review\n",
    "        self.ratio = ratio\n",
    "        \n",
    "        self.all_sim_dict = defaultdict(list)\n",
    "    \n",
    "    @staticmethod\n",
    "    def cal_cos_sim(vec1, vec2):\n",
    "        assert isinstance(vec1, list)\n",
    "        assert isinstance(vec2, list)\n",
    "        dis = distance.cosine(vec1, vec2)\n",
    "        return 1 - dis\n",
    "    \n",
    "    @staticmethod\n",
    "    def Jaccard(vec1, vec2):\n",
    "        assert isinstance(vec1, list)\n",
    "        assert isinstance(vec2, list)\n",
    "        set1 = set(vec1)\n",
    "        set2 = set(vec2)\n",
    "        inter = len(set1.intersection(set2))\n",
    "        uni = len(set1.union(set2))\n",
    "        return inter / uni\n",
    "    \n",
    "    def makeRecomm(self, resId, top_N):\n",
    "        if resId not in self.all_sim_dict:\n",
    "            for index, row in self.pd_business.iterrows():\n",
    "                if resId != index:\n",
    "                    sim_cat = self.ratio[0] * ContentRecomm.Jaccard(self.pd_business.loc[resId,'Restaurant_categories'],self.pd_business.loc[index,'Restaurant_categories'])\n",
    "                    sim_attr = self.ratio[1] * ContentRecomm.Jaccard(self.pd_business.loc[resId,'attributes_list'],self.pd_business.loc[index,'attributes_list'])\n",
    "                    sim_loc = self.ratio[2] * ContentRecomm.Jaccard(self.pd_business.loc[resId,'location'],self.pd_business.loc[index,'location'])\n",
    "                    sim_rate = self.ratio[3] * ContentRecomm.cal_cos_sim(self.pd_business.loc[resId,'rate_vec'],self.pd_business.loc[index,'rate_vec'])\n",
    "                    self.all_sim_dict[resId].append((index,sim_cat+sim_attr+sim_loc+sim_rate))\n",
    "\n",
    "            self.all_sim_dict[resId].sort(key=lambda tp:tp[1], reverse=True)\n",
    "        \n",
    "        return [tp[0] for tp in self.all_sim_dict[resId][:top_N]]\n",
    "    \n",
    "#     def cal_recall_score(self,userId, resId, top_k, top_N, threshold=2):\n",
    "#         top_N_recomm = self.makeRecomm(resId, top_N)\n",
    "#         relevant = set()\n",
    "#         top_N_recomm_rate = list()\n",
    "#         for index, mov in enumerate(top_N_recomm):\n",
    "#             if (userId, mov) in pd_review.index:\n",
    "#                 if self.pd_review.loc[(userId, mov),'stars'].iloc[0] > threshold:\n",
    "#                     relevant.add(mov)\n",
    "#             top_N_recomm_rate.append((mov, pred_rate(userId, mov)))\n",
    "#         top_N_recomm_rate.sort(key=lambda tp: tp[1], reverse=True)\n",
    "#         rec_at_top_k = set([tp[0] for tp in top_N_recomm_rate[:top_k]])\n",
    "#         return len(relevant.intersection(rec_at_top_K)) / len(relevant)\n",
    "    \n",
    "    def simpleRecall(self, userId, resId, top_N):\n",
    "        '''\n",
    "        # restaurants that user has been that are also in top_N recommendations / top_N \n",
    "        '''\n",
    "        top_N_recomm = set(self.makeRecomm(resId, top_N))\n",
    "        return len(top_N_recomm.intersection(set(self.userToRes_dict[userId]))) / top_N\n",
    "        "
   ]
  },
  {
   "cell_type": "code",
   "execution_count": 23,
   "metadata": {},
   "outputs": [
    {
     "name": "stdout",
     "output_type": "stream",
     "text": [
      "['MUjlAtBNJR--7ai5pITbMg', '6LR0Eg5EAMEIES7CY7ITOg', 'ERnG-1q3igX3VSgm5uLZ6A', 'p1ohbPwI1QfjHQ2zRup5OA', 'qUWqjjjfpB2-4P3He5rsKw']\n"
     ]
    }
   ],
   "source": [
    "import random\n",
    "randomTest = random.randrange(pd_review.shape[0])\n",
    "test_user = pd_review.iloc[randomTest, 0]\n",
    "test_res = pd_review.iloc[randomTest, 1]\n",
    "top_N = 5\n",
    "contentModel = ContentRecomm(userToRes_dict, pd_business, pd_review)\n",
    "top_N_recomm = contentModel.makeRecomm(test_res, top_N)\n",
    "print(top_N_recomm)"
   ]
  },
  {
   "cell_type": "code",
   "execution_count": 53,
   "metadata": {},
   "outputs": [
    {
     "name": "stdout",
     "output_type": "stream",
     "text": [
      "Restaurant id: oqJe5o_4J0xkhvTSTP9UNQ\n",
      "Food categories: ['sushi bars', 'japanese']\n",
      "Attributes: ['RestaurantsTakeOut', 'RestaurantsGoodForGroups', 'BusinessParkingstreet', 'RestaurantsReservations', 'RestaurantsPriceRange22', 'NoiseLevelaverage', 'Alcoholfull_bar', 'GoodForKids', 'GoodForMeallunch', 'GoodForMealdinner', 'RestaurantsDelivery', 'Caters', 'BikeParking', 'RestaurantsAttirecasual', 'WiFifree']\n",
      "Location: ['Toronto', 'ON']\n",
      "Rate, # of rates: [3.5, 112]\n",
      "=====================================================================\n",
      "Restaurant id: td9FZybutwNG7DgocHCiXA\n",
      "Food categories: ['dim sum', 'chinese']\n",
      "Attributes: ['NoiseLevelquiet', 'RestaurantsPriceRange23', 'RestaurantsGoodForGroups', 'GoodForKids', 'RestaurantsReservations', 'Alcoholfull_bar', 'GoodForMeallunch', 'GoodForMealdinner', 'GoodForMealbrunch', 'Ambienceclassy', 'Ambienceupscale', \"RestaurantsAttire'casual'\", 'Caters', 'RestaurantsTakeOut', \"WiFi'free'\", 'BusinessAcceptsCreditCards']\n",
      "Location: ['Toronto', 'ON']\n",
      "Rate, # of rates: [3.5, 191]\n",
      "=====================================================================\n",
      "Restaurant id: 5EMadlOW4sta6CEtJHf9uQ\n",
      "Food categories: ['canadian (new)', 'cafes', 'diners']\n",
      "Attributes: ['RestaurantsGoodForGroups', 'Ambiencetrendy', 'NoiseLevelaverage', 'BusinessParkingstreet', 'WiFifree', 'RestaurantsPriceRange23', 'RestaurantsAttirecasual', 'Alcoholfull_bar', 'RestaurantsReservations']\n",
      "Location: ['Toronto', 'ON']\n",
      "Rate, # of rates: [4.0, 41]\n",
      "=====================================================================\n",
      "Restaurant id: 9Boahjn3QxlZnP2Aw_V1Rg\n",
      "Food categories: ['italian']\n",
      "Attributes: ['RestaurantsPriceRange24', 'Alcoholfull_bar', 'NoiseLevelaverage', 'Caters', 'RestaurantsGoodForGroups', 'Ambienceclassy', 'RestaurantsTakeOut', 'RestaurantsReservations', 'BusinessParkingstreet', 'RestaurantsAttiredressy', 'WiFino']\n",
      "Location: ['Toronto', 'ON']\n",
      "Rate, # of rates: [4.0, 68]\n",
      "=====================================================================\n",
      "Restaurant id: MUjlAtBNJR--7ai5pITbMg\n",
      "Food categories: ['food', 'italian', 'coffee & tea']\n",
      "Attributes: ['OutdoorSeating', 'Alcoholfull_bar', 'Ambiencetrendy', 'RestaurantsGoodForGroups', 'RestaurantsAttirecasual', 'NoiseLevelaverage', 'BikeParking', 'RestaurantsTakeOut', 'Caters', 'BusinessParkinggarage', 'BusinessParkingstreet', 'RestaurantsPriceRange23', 'RestaurantsReservations', 'WiFino', 'GoodForMealdinner']\n",
      "Location: ['Toronto', 'ON']\n",
      "Rate, # of rates: [3.0, 39]\n",
      "=====================================================================\n",
      "Restaurant id: CJKgffwOSqZ7WpKVruA0xQ\n",
      "Food categories: ['food', 'canadian (new)', 'salad']\n",
      "Attributes: ['BikeParking', 'RestaurantsPriceRange22', 'GoodForMeallunch', 'GoodForMealdinner', 'OutdoorSeating', 'RestaurantsDelivery', 'Caters', 'Alcoholfull_bar', \"WiFi'free'\", 'RestaurantsReservations', 'GoodForKids', 'RestaurantsTakeOut', 'BusinessParkingstreet', 'RestaurantsGoodForGroups', 'NoiseLevelaverage', 'RestaurantsTableService', \"RestaurantsAttire'casual'\", 'Ambiencecasual']\n",
      "Location: ['Toronto', 'ON']\n",
      "Rate, # of rates: [3.5, 53]\n",
      "=====================================================================\n"
     ]
    }
   ],
   "source": [
    "test_user = pd_review.iloc[randomTest, 0]\n",
    "test_res = pd_review.iloc[randomTest, 1]\n",
    "for r in userToRes_dict[test_user][0:4]:\n",
    "    print('Restaurant id: {}'.format(pd_business.loc[r].name))\n",
    "    print('Food categories: {}'.format(pd_business.loc[r, 'Restaurant_categories']))\n",
    "    print('Attributes: {}'.format(pd_business.loc[r, 'attributes_list']))\n",
    "    print('Location: {}'.format(pd_business.loc[r, 'location']))\n",
    "    print('Rate, # of rates: {}'.format(pd_business.loc[r, 'rate_vec']))\n",
    "    print(\"=====================================================================\")\n",
    "for r in userToRes_dict[test_user][6:8]:\n",
    "    print('Restaurant id: {}'.format(pd_business.loc[r].name))\n",
    "    print('Food categories: {}'.format(pd_business.loc[r, 'Restaurant_categories']))\n",
    "    print('Attributes: {}'.format(pd_business.loc[r, 'attributes_list']))\n",
    "    print('Location: {}'.format(pd_business.loc[r, 'location']))\n",
    "    print('Rate, # of rates: {}'.format(pd_business.loc[r, 'rate_vec']))\n",
    "    print(\"=====================================================================\")"
   ]
  },
  {
   "cell_type": "code",
   "execution_count": 24,
   "metadata": {},
   "outputs": [],
   "source": [
    "randList = [random.randrange(pd_review.shape[0]) for i in range(10)]"
   ]
  },
  {
   "cell_type": "code",
   "execution_count": 25,
   "metadata": {},
   "outputs": [
    {
     "name": "stdout",
     "output_type": "stream",
     "text": [
      "Restaurant id: VA95qAV2PRH9gtTi2Vfv4Q\n",
      "Food categories: ['food', 'salad', 'pizza', 'italian', 'coffee & tea']\n",
      "Attributes: ['RestaurantsReservations', 'WiFino', 'NoiseLevelaverage', 'OutdoorSeating', 'RestaurantsAttirecasual', 'Alcoholfull_bar', 'RestaurantsDelivery', 'RestaurantsTakeOut', 'BikeParking', 'RestaurantsGoodForGroups', 'GoodForMeallunch', 'GoodForMealdinner', 'Caters', 'BusinessParkingstreet', 'RestaurantsPriceRange22']\n",
      "Location: ['Toronto', 'ON']\n",
      "Rate, # of rates: [3.5, 289]\n",
      "=====================================================================\n",
      "Restaurant id: MUjlAtBNJR--7ai5pITbMg\n",
      "Food categories: ['food', 'italian', 'coffee & tea']\n",
      "Attributes: ['OutdoorSeating', 'Alcoholfull_bar', 'Ambiencetrendy', 'RestaurantsGoodForGroups', 'RestaurantsAttirecasual', 'NoiseLevelaverage', 'BikeParking', 'RestaurantsTakeOut', 'Caters', 'BusinessParkinggarage', 'BusinessParkingstreet', 'RestaurantsPriceRange23', 'RestaurantsReservations', 'WiFino', 'GoodForMealdinner']\n",
      "Location: ['Toronto', 'ON']\n",
      "Rate, # of rates: [3.0, 39]\n",
      "=====================================================================\n",
      "Restaurant id: 6LR0Eg5EAMEIES7CY7ITOg\n",
      "Food categories: ['pizza', 'italian', 'salad']\n",
      "Attributes: ['RestaurantsPriceRange22', 'RestaurantsAttirecasual', 'RestaurantsGoodForGroups', 'RestaurantsDelivery', 'Alcoholfull_bar', \"WiFi'no'\", 'HasTV', 'NoiseLevelaverage', 'RestaurantsReservations', 'Ambiencecasual', 'BikeParking', 'GoodForKids', 'OutdoorSeating', 'BusinessParkingstreet', 'RestaurantsTakeOut', 'Caters']\n",
      "Location: ['Toronto', 'ON']\n",
      "Rate, # of rates: [3.5, 44]\n",
      "=====================================================================\n",
      "Restaurant id: ERnG-1q3igX3VSgm5uLZ6A\n",
      "Food categories: ['pizza', 'italian', 'food']\n",
      "Attributes: ['WiFifree', 'GoodForKids', 'BusinessParkingstreet', 'BusinessParkingvalidated', 'BusinessParkingvalet', 'RestaurantsPriceRange22', 'BikeParking', 'Alcoholfull_bar', 'RestaurantsAttirecasual', 'RestaurantsDelivery', 'Caters', 'RestaurantsReservations', 'RestaurantsGoodForGroups', 'NoiseLevelaverage', 'RestaurantsTakeOut']\n",
      "Location: ['Toronto', 'ON']\n",
      "Rate, # of rates: [3.5, 69]\n",
      "=====================================================================\n",
      "Restaurant id: p1ohbPwI1QfjHQ2zRup5OA\n",
      "Food categories: ['desserts', 'pizza', 'coffee & tea', 'food', 'italian', 'cafes']\n",
      "Attributes: ['GoodForMeallunch', 'GoodForMealdinner', 'Caters', 'WiFino', 'GoodForKids', 'NoiseLevelaverage', 'WheelchairAccessible', 'Ambiencecasual', 'RestaurantsDelivery', 'RestaurantsGoodForGroups', 'BusinessParkingstreet', 'RestaurantsTakeOut', 'RestaurantsPriceRange22', 'Alcoholfull_bar', 'HasTV', 'OutdoorSeating', 'RestaurantsTableService', 'RestaurantsAttirecasual']\n",
      "Location: ['Toronto', 'ON']\n",
      "Rate, # of rates: [4.0, 73]\n",
      "=====================================================================\n",
      "Restaurant id: qUWqjjjfpB2-4P3He5rsKw\n",
      "Food categories: ['italian', 'salad', 'pizza']\n",
      "Attributes: ['RestaurantsTakeOut', 'Caters', 'RestaurantsPriceRange22', 'BusinessParkingstreet', 'RestaurantsGoodForGroups', 'GoodForMeallunch', 'GoodForMealdinner', 'Ambiencecasual', 'GoodForKids', 'RestaurantsDelivery', 'NoiseLevelaverage', 'BikeParking', 'RestaurantsTableService', 'WiFifree', 'RestaurantsAttirecasual', 'Alcoholbeer_and_wine']\n",
      "Location: ['Toronto', 'ON']\n",
      "Rate, # of rates: [4.5, 133]\n",
      "=====================================================================\n"
     ]
    }
   ],
   "source": [
    "print('Restaurant id: {}'.format(pd_business.loc[test_res].name))\n",
    "print('Food categories: {}'.format(pd_business.loc[test_res, 'Restaurant_categories']))\n",
    "print('Attributes: {}'.format(pd_business.loc[test_res, 'attributes_list']))\n",
    "print('Location: {}'.format(pd_business.loc[test_res, 'location']))\n",
    "print('Rate, # of rates: {}'.format(pd_business.loc[test_res, 'rate_vec']))\n",
    "print(\"=====================================================================\")\n",
    "for r in top_N_recomm:\n",
    "    print('Restaurant id: {}'.format(pd_business.loc[r].name))\n",
    "    print('Food categories: {}'.format(pd_business.loc[r, 'Restaurant_categories']))\n",
    "    print('Attributes: {}'.format(pd_business.loc[r, 'attributes_list']))\n",
    "    print('Location: {}'.format(pd_business.loc[r, 'location']))\n",
    "    print('Rate, # of rates: {}'.format(pd_business.loc[r, 'rate_vec']))\n",
    "    print(\"=====================================================================\")"
   ]
  },
  {
   "cell_type": "code",
   "execution_count": 26,
   "metadata": {},
   "outputs": [],
   "source": [
    "# print(pd_business.loc[test_res])\n",
    "# print(\"=====================================================================\")\n",
    "# for r in top_N_recomm:\n",
    "#     print(pd_business.loc[r])\n",
    "#     print(\"=====================================================================\")"
   ]
  },
  {
   "cell_type": "code",
   "execution_count": 27,
   "metadata": {},
   "outputs": [],
   "source": [
    "# print(\"intersection of recommended with real data: {}\".format(contentModel.simpleRecall(test_user, test_res, 1000)))"
   ]
  },
  {
   "cell_type": "code",
   "execution_count": 28,
   "metadata": {},
   "outputs": [
    {
     "name": "stdout",
     "output_type": "stream",
     "text": [
      "recall of content base model for 10 test data: 0.064\n"
     ]
    }
   ],
   "source": [
    "contentRecall = 0\n",
    "for rand in randList:\n",
    "    test_user = pd_review.iloc[rand, 0]\n",
    "    test_res = pd_review.iloc[rand, 1]\n",
    "    contentRecall += contentModel.simpleRecall(test_user, test_res, 1000)\n",
    "print(\"recall of content base model for 10 test data: {}\".format(contentRecall))"
   ]
  },
  {
   "cell_type": "code",
   "execution_count": 29,
   "metadata": {
    "scrolled": false
   },
   "outputs": [],
   "source": [
    "# for r in userToRes_dict[test_user]:\n",
    "#     print(pd_business.loc[r])\n",
    "#     print(\"=====================================================================\")"
   ]
  },
  {
   "cell_type": "code",
   "execution_count": 30,
   "metadata": {},
   "outputs": [],
   "source": [
    "# for r in userToRes_dict[test_user]:\n",
    "#     print('Restaurant id: {}'.format(pd_business.loc[r].name))\n",
    "#     print('Food categories: {}'.format(pd_business.loc[r, 'Restaurant_categories']))\n",
    "#     print('Attributes: {}'.format(pd_business.loc[r, 'attributes_list']))\n",
    "#     print('Location: {}'.format(pd_business.loc[r, 'location']))\n",
    "#     print('Rate, # of rates: {}'.format(pd_business.loc[r, 'rate_vec']))\n",
    "#     print(\"=====================================================================\")"
   ]
  },
  {
   "cell_type": "markdown",
   "metadata": {},
   "source": [
    "# User-Based Collaborative Recommendation Model"
   ]
  },
  {
   "cell_type": "code",
   "execution_count": 31,
   "metadata": {},
   "outputs": [],
   "source": [
    "import sklearn.metrics as metrics\n",
    "from sklearn.neighbors import NearestNeighbors\n",
    "from scipy.spatial.distance import correlation, cosine\n",
    "from sklearn.metrics import pairwise_distances\n",
    "from sklearn.metrics import mean_squared_error"
   ]
  },
  {
   "cell_type": "code",
   "execution_count": 32,
   "metadata": {},
   "outputs": [
    {
     "name": "stdout",
     "output_type": "stream",
     "text": [
      "221182\n",
      "43756\n"
     ]
    }
   ],
   "source": [
    "allUserList = list(set(pd_review['user_id']))\n",
    "allResList = list(set(pd_review['business_id']))\n",
    "print(len(allUserList))\n",
    "print(len(allResList))"
   ]
  },
  {
   "cell_type": "code",
   "execution_count": 33,
   "metadata": {},
   "outputs": [],
   "source": [
    "# from scipy.sparse import csc_matrix\n",
    "# M = csc_matrix((len(allUserList), len(allResList)), dtype=np.int8)"
   ]
  },
  {
   "cell_type": "code",
   "execution_count": 34,
   "metadata": {},
   "outputs": [
    {
     "name": "stdout",
     "output_type": "stream",
     "text": [
      "['shark', 'lion', 'goat', 'dog', 'fish', 'car', 'tiger']\n"
     ]
    },
    {
     "data": {
      "text/plain": [
       "-0.3806394141919143"
      ]
     },
     "execution_count": 34,
     "metadata": {},
     "output_type": "execute_result"
    }
   ],
   "source": [
    "dict1 = {'car': 0.1, 'dog':0.3, 'tiger':0.5, 'lion': 0.1, 'fish':0.2}\n",
    "dict2 = {'goat':0.3, 'fish':0.3, 'shark':0.4, 'dog':0.3}\n",
    "keys = list(dict1.keys() | dict2.keys())\n",
    "print(keys)\n",
    "np.corrcoef(\n",
    "    [dict1.get(x, 0) for x in keys],\n",
    "    [dict2.get(x, 0) for x in keys])[0, 1]"
   ]
  },
  {
   "cell_type": "code",
   "execution_count": 35,
   "metadata": {},
   "outputs": [
    {
     "name": "stdout",
     "output_type": "stream",
     "text": [
      "['ii8sAGBexBOJoYRFafF9XQ', 'BjH8Xepc10i6OhCDQdX6og', 'ZkGDCVKSdf8m76cnnalL-A', '6Wvn57wjSrVX7gJM37CIZw', 'LkMtMHVetws5_7QfRjPtlg']\n"
     ]
    },
    {
     "data": {
      "text/plain": [
       "-0.6974927175058553"
      ]
     },
     "execution_count": 35,
     "metadata": {},
     "output_type": "execute_result"
    }
   ],
   "source": [
    "dict1 = {'LkMtMHVetws5_7QfRjPtlg': 4.0, 'ii8sAGBexBOJoYRFafF9XQ': 5.0, 'ZkGDCVKSdf8m76cnnalL-A': 5.0}\n",
    "dict2 = {'LkMtMHVetws5_7QfRjPtlg': 4.0, '6Wvn57wjSrVX7gJM37CIZw': 4.0, 'BjH8Xepc10i6OhCDQdX6og': 3.0}\n",
    "keys = list(dict1.keys() | dict2.keys())\n",
    "print(keys)\n",
    "np.corrcoef(\n",
    "    [dict1.get(x, 0) for x in keys],\n",
    "    [dict2.get(x, 0) for x in keys])[0, 1]"
   ]
  },
  {
   "cell_type": "code",
   "execution_count": 36,
   "metadata": {},
   "outputs": [],
   "source": [
    "import warnings\n",
    "warnings.filterwarnings(\"ignore\")\n",
    "\n",
    "class CollabRecomm:\n",
    "    def __init__(self, pd_review, userToRes_dict, resToUser_dict):\n",
    "        self.pd_review = pd_review.set_index(['user_id', 'business_id'])\n",
    "        self.userToRes_dict = dict(userToRes_dict)\n",
    "        self.resToUser_dict = dict(resToUser_dict)\n",
    "        self.resIndex = {res: index for index, res in enumerate(resToUser_dict.keys())}\n",
    "    \n",
    "    def cal_Pearson(self, user1, user2):\n",
    "#         num_res = len(self.resIndex)\n",
    "#         v1 = np.zeros((num_res,))\n",
    "#         v2 = np.zeros((num_res,))\n",
    "#         for r in self.userToRes_dict[user1]:\n",
    "#             v1[self.resIndex[r]] = self.pd_review.loc[(user1, r),'stars'].iloc[0]\n",
    "        \n",
    "#         for r in self.userToRes_dict[user2]:\n",
    "#             v2[self.resIndex[r]] = self.pd_review.loc[(user2, r),'stars'].iloc[0]\n",
    "            \n",
    "#         PearsonSim = 1 - pairwise_distances([v1, v2], metric=\"correlation\")[0,1]\n",
    "        v1 = {r:self.pd_review.loc[(user1, r),'stars'].iloc[0] for r in self.userToRes_dict[user1]}\n",
    "        v2 = {r:self.pd_review.loc[(user2, r),'stars'].iloc[0] for r in self.userToRes_dict[user2]}\n",
    "        \n",
    "        r_keys = list(v1.keys() | v2.keys())\n",
    "        PearsonSim = np.corrcoef([v1.get(r, 0) for r in r_keys], [v2.get(r, 0) for r in r_keys])[0, 1]\n",
    "        return PearsonSim\n",
    "    \n",
    "    def makeRecomm(self, userId, resId, top_N, top_K):\n",
    "        sim_list = [(u, self.cal_Pearson(userId, u)) for u in self.resToUser_dict[resId] if u!=userId and u in self.userToRes_dict]\n",
    "        sim_list.sort(key=lambda tp:tp[1], reverse=True)\n",
    "        # select top_K similar users\n",
    "        top_k_users = [tp[0] for tp in sim_list[:top_K]]\n",
    "        print(\"top k similar users: {}\".format(top_k_users[:5]))\n",
    "        # return most intersected of top_k similar users but not yet rated by userId\n",
    "        mostEaten = defaultdict(int)\n",
    "        for u in top_k_users:\n",
    "            for r in self.userToRes_dict[u]:\n",
    "                if r != resId:\n",
    "                    mostEaten[r] += 1\n",
    "        \n",
    "        mostEatenList = sorted(mostEaten.items(), key=lambda tp:tp[1], reverse=True)\n",
    "        \n",
    "        return [tp[0] for tp in mostEatenList[:top_N]]\n",
    "    \n",
    "    def simpleRecall(self, userId, resId, top_N, top_K):\n",
    "        '''\n",
    "        # restaurants that user has been that are also in top_N recommendations / top_N \n",
    "        '''\n",
    "        top_N_recomm = set(self.makeRecomm(userId, resId, top_N, top_K))\n",
    "        return len(top_N_recomm.intersection(set(self.userToRes_dict[userId]))) / top_N"
   ]
  },
  {
   "cell_type": "code",
   "execution_count": 58,
   "metadata": {
    "scrolled": false
   },
   "outputs": [
    {
     "name": "stdout",
     "output_type": "stream",
     "text": [
      "top k similar users: ['7ft5jiIKC8CWl_Ez9ye1_g', 'Kyl3MxItnaEScrEJccAOww', '3PvMBYkQ6RxvZpsTnM6YLg', 'EfMjxxxxLKP4HIwvnU7r-Q', 'TUDW2iLLKYih1Y8PzRHMrg']\n",
      "['g1j8COaztNostGlxssCCVA', '4MQaqhBUJCpghGukSWNq7w', 'WqXrmUVy5Ay3Scn4GPM9Ug', 's11Ym0QX2Am2uwtnyou4GA', '9fMlGyhfhrob_O1DER3YWw']\n"
     ]
    }
   ],
   "source": [
    "test_user = pd_review.iloc[randomTest, 0]\n",
    "test_res = pd_review.iloc[randomTest, 1]\n",
    "collabModel = CollabRecomm(pd_review, userToRes_dict, resToUser_dict)\n",
    "top_N_recomm = collabModel.makeRecomm(test_user, test_res, 5, 10)\n",
    "print(top_N_recomm)"
   ]
  },
  {
   "cell_type": "code",
   "execution_count": 59,
   "metadata": {},
   "outputs": [
    {
     "name": "stdout",
     "output_type": "stream",
     "text": [
      "Restaurant id: g1j8COaztNostGlxssCCVA\n",
      "Food categories: ['salad', 'italian', 'sandwiches', 'food']\n",
      "Attributes: ['RestaurantsPriceRange21', 'RestaurantsAttirecasual', 'Caters', 'BusinessParkingstreet', 'BikeParking', 'RestaurantsTakeOut', 'NoiseLevelaverage', 'GoodForKids', 'OutdoorSeating', 'RestaurantsGoodForGroups', \"Alcohol'none'\", 'WiFino']\n",
      "Location: ['Toronto', 'ON']\n",
      "Rate, # of rates: [4.0, 8]\n",
      "=====================================================================\n",
      "Restaurant id: 4MQaqhBUJCpghGukSWNq7w\n",
      "Food categories: ['american (traditional)', 'gastropubs', 'canadian (new)', 'sports bars', 'arts & entertainment', 'bars', 'nightlife']\n",
      "Attributes: ['RestaurantsTakeOut', 'RestaurantsAttirecasual', 'Alcoholfull_bar', 'Ambiencecasual', 'RestaurantsGoodForGroups', 'HasTV', 'RestaurantsReservations', 'BikeParking', 'WiFifree', 'Musicbackground_music', 'NoiseLevelloud', 'RestaurantsPriceRange22', 'HappyHour', 'GoodForMeallatenight', 'GoodForMeallunch', 'GoodForMealdinner', 'BestNightsfriday', 'BestNightsthursday', 'BestNightssaturday', 'BusinessParkingstreet']\n",
      "Location: ['Toronto', 'ON']\n",
      "Rate, # of rates: [3.5, 334]\n",
      "=====================================================================\n",
      "Restaurant id: WqXrmUVy5Ay3Scn4GPM9Ug\n",
      "Food categories: ['breakfast & brunch', 'pubs', 'bars', 'gastropubs', 'canadian (new)', 'chinese', 'nightlife', 'british']\n",
      "Attributes: ['OutdoorSeating', 'HasTV', 'RestaurantsReservations', 'WiFifree', 'BikeParking', \"RestaurantsAttire'casual'\", 'RestaurantsPriceRange22', 'RestaurantsGoodForGroups', 'RestaurantsTakeOut', \"Alcohol'full_bar'\", 'BusinessParkingstreet', 'Caters', 'RestaurantsTableService', 'Ambiencecasual', 'GoodForMealdinner', \"NoiseLevel'average'\"]\n",
      "Location: ['Toronto', 'ON']\n",
      "Rate, # of rates: [4.0, 47]\n",
      "=====================================================================\n",
      "Restaurant id: s11Ym0QX2Am2uwtnyou4GA\n",
      "Food categories: ['food', 'french', 'breakfast & brunch', 'american (traditional)']\n",
      "Attributes: ['RestaurantsGoodForGroups', 'WiFino', 'Ambiencecasual', 'GoodForKids', 'NoiseLevelaverage', 'RestaurantsReservations', 'BusinessParkingstreet', 'Alcoholfull_bar', 'RestaurantsPriceRange22', 'RestaurantsAttirecasual']\n",
      "Location: ['Toronto', 'ON']\n",
      "Rate, # of rates: [4.0, 27]\n",
      "=====================================================================\n",
      "Restaurant id: 9fMlGyhfhrob_O1DER3YWw\n",
      "Food categories: ['afghan']\n",
      "Attributes: ['NoiseLevelquiet', 'RestaurantsAttirecasual', 'Caters', 'BikeParking', 'WiFino', 'RestaurantsPriceRange22', 'GoodForKids', 'RestaurantsTakeOut', 'RestaurantsReservations', 'RestaurantsGoodForGroups', 'HasTV', 'RestaurantsDelivery']\n",
      "Location: ['Vaughan', 'ON']\n",
      "Rate, # of rates: [3.5, 20]\n",
      "=====================================================================\n"
     ]
    }
   ],
   "source": [
    "for r in top_N_recomm:\n",
    "    print('Restaurant id: {}'.format(pd_business.loc[r].name))\n",
    "    print('Food categories: {}'.format(pd_business.loc[r, 'Restaurant_categories']))\n",
    "    print('Attributes: {}'.format(pd_business.loc[r, 'attributes_list']))\n",
    "    print('Location: {}'.format(pd_business.loc[r, 'location']))\n",
    "    print('Rate, # of rates: {}'.format(pd_business.loc[r, 'rate_vec']))\n",
    "    print(\"=====================================================================\")"
   ]
  },
  {
   "cell_type": "code",
   "execution_count": 60,
   "metadata": {},
   "outputs": [],
   "source": [
    "# print(pd_business.loc[test_res])\n",
    "# print(\"=====================================================================\")\n",
    "# for r in top_N_recomm:\n",
    "#     print(pd_business.loc[r])\n",
    "#     print(\"=====================================================================\")"
   ]
  },
  {
   "cell_type": "code",
   "execution_count": 61,
   "metadata": {},
   "outputs": [],
   "source": [
    "# print(\"intersection of recommended with real data: {}\".format(collabModel.simpleRecall(test_user, test_res, 1000, 2000)))"
   ]
  },
  {
   "cell_type": "code",
   "execution_count": 62,
   "metadata": {},
   "outputs": [
    {
     "name": "stdout",
     "output_type": "stream",
     "text": [
      "top k similar users: ['tZ_oKXjo8Y6DXgRPExO2iA', 'QyScH8Ef-7RosWQch4Ikcg', '-4VsgXM9Rg8Hh91VDG68hA', 'POj-rnht2EtX9VOQwNiNnQ', 'RQLoA7Z_M5T8iYnsFHwzYg']\n",
      "top k similar users: ['om74dhhj7cL0uVGB6w9t3w', 'M2BP67TtjjpbuQ2-X3WKFQ', 'eslg8gWc8aC01H2utWw4_Q', 'nnagN-m8kL2O-jDCnypexg', 'yYTl4SYmu53ZujvtikGgRw']\n",
      "top k similar users: ['x4pXPFk0lv02iM0rLMBb6A', '5wKlVEkZMYmPy6e9p9kPpA', 'J2wmUEv2n5hdPd5-OUw61A', 'ZcykwbeEMTtxfUp6PPiiLg', 'LDu8Kn3k1CZHY5sEq3bLPQ']\n",
      "top k similar users: ['ueOKZidbQK2bYl7ntP6ugQ', 'ozTc_b2kVDf1yYvA74YDEA', 'GbzADFMTS8IZOCjhBm_9CA', 'fjNNUJS0dtMr7W0hHMiNVw', 'jfGVUAQ7RL4EFdAio8iHOQ']\n",
      "top k similar users: ['OmT5GuNNYDG1nycaf4-exQ', 'SsEnMoB4bsN95ZRXxCh5-Q', 'FTFlzHEQ8jeEf4az0zkPFQ', 'jJ8g0lv0Jv4G3EEJgpQU9w', 'avQbuXb3ObMmSwGDcNBMjQ']\n",
      "top k similar users: ['PEwOXAd4Wj4WbEoKHpthDQ', '8jPhhu9WK1E8Da408S4Hig', 'UPk3wWPYbn-hyeGOE0IpAQ', 'lUCWP1s2jW10_ELo3PNbhg', 'zeeYly1Qe5eN4NraMQqvwQ']\n",
      "top k similar users: ['U98mZaQAsHXym6FyhGCZdA', 'Q5pO4T7zv2FN1wzKQEyRqQ', 'ioav4-vdhUOp1m3JrTc7DA', 'ioav4-vdhUOp1m3JrTc7DA', 'ioav4-vdhUOp1m3JrTc7DA']\n",
      "top k similar users: ['V8Yt1Wybg36vG2eozhsKUw', 'av55GZpDNd2YAQSEBTuaPw', 'CdplRGKcTYkUwJfi7T0BcA', 'Qm747lw5EaWmAMyyryz9iQ', 'Fqxo9Krff7jNdhKNIvMe5w']\n",
      "top k similar users: ['BKsE_3ThAFJANutMBs5EWQ', 'p7HRWeCU22nMBpWIEjnt3Q', 'TiVHFsVuX4WyPWO-foNdiw', 'TU0WXxKuAk5HQpjjF4_YXg', 'JoMG92dLD0eDzxDO0Dz59g']\n",
      "top k similar users: ['T6bbos8Lw6F2Zl2AKOCcTg', 'P_QT3jGWj7YQnQHGQwZLLw', 'd22uEDYsDY1uCDCrX5Cf1Q', 'HA5qOqJYTHXHMd42ba1DEA', 'V0FsXbFTfcVk8zJtuUSX4g']\n",
      "recall of collaborative base model for 10 test data: 0.121\n"
     ]
    }
   ],
   "source": [
    "collabRecall = 0\n",
    "for rand in randList:\n",
    "    test_user = pd_review.iloc[rand, 0]\n",
    "    test_res = pd_review.iloc[rand, 1]\n",
    "    collabRecall += collabModel.simpleRecall(test_user, test_res, 1000, 2000)\n",
    "print(\"recall of collaborative base model for 10 test data: {}\".format(collabRecall))"
   ]
  },
  {
   "cell_type": "code",
   "execution_count": null,
   "metadata": {},
   "outputs": [],
   "source": []
  }
 ],
 "metadata": {
  "kernelspec": {
   "display_name": "Python 3",
   "language": "python",
   "name": "python3"
  },
  "language_info": {
   "codemirror_mode": {
    "name": "ipython",
    "version": 3
   },
   "file_extension": ".py",
   "mimetype": "text/x-python",
   "name": "python",
   "nbconvert_exporter": "python",
   "pygments_lexer": "ipython3",
   "version": "3.7.3"
  }
 },
 "nbformat": 4,
 "nbformat_minor": 2
}
